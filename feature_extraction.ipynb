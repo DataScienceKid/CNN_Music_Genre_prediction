{
 "cells": [
  {
   "cell_type": "code",
   "execution_count": 2,
   "id": "ee778aa1-0445-43fe-b01c-ecb5becd09e4",
   "metadata": {},
   "outputs": [],
   "source": [
    "import pandas as pd\n",
    "import librosa"
   ]
  },
  {
   "cell_type": "code",
   "execution_count": 3,
   "id": "282c60c9-0c8e-4907-adc2-5bbfd1d6a66f",
   "metadata": {},
   "outputs": [],
   "source": [
    "original_df = pd.read_csv(\"../genres_v2.csv\", low_memory=False)[[\"id\", \"genre\"]]"
   ]
  },
  {
   "cell_type": "code",
   "execution_count": 4,
   "id": "83f15c58-bf6f-4ab5-9659-9092f732ff48",
   "metadata": {},
   "outputs": [
    {
     "data": {
      "text/html": [
       "<div>\n",
       "<style scoped>\n",
       "    .dataframe tbody tr th:only-of-type {\n",
       "        vertical-align: middle;\n",
       "    }\n",
       "\n",
       "    .dataframe tbody tr th {\n",
       "        vertical-align: top;\n",
       "    }\n",
       "\n",
       "    .dataframe thead th {\n",
       "        text-align: right;\n",
       "    }\n",
       "</style>\n",
       "<table border=\"1\" class=\"dataframe\">\n",
       "  <thead>\n",
       "    <tr style=\"text-align: right;\">\n",
       "      <th></th>\n",
       "      <th>id</th>\n",
       "      <th>genre</th>\n",
       "    </tr>\n",
       "  </thead>\n",
       "  <tbody>\n",
       "    <tr>\n",
       "      <th>0</th>\n",
       "      <td>2Vc6NJ9PW9gD9q343XFRKx</td>\n",
       "      <td>Dark Trap</td>\n",
       "    </tr>\n",
       "    <tr>\n",
       "      <th>1</th>\n",
       "      <td>7pgJBLVz5VmnL7uGHmRj6p</td>\n",
       "      <td>Dark Trap</td>\n",
       "    </tr>\n",
       "    <tr>\n",
       "      <th>2</th>\n",
       "      <td>0vSWgAlfpye0WCGeNmuNhy</td>\n",
       "      <td>Dark Trap</td>\n",
       "    </tr>\n",
       "    <tr>\n",
       "      <th>3</th>\n",
       "      <td>0VSXnJqQkwuH2ei1nOQ1nu</td>\n",
       "      <td>Dark Trap</td>\n",
       "    </tr>\n",
       "    <tr>\n",
       "      <th>4</th>\n",
       "      <td>4jCeguq9rMTlbMmPHuO7S3</td>\n",
       "      <td>Dark Trap</td>\n",
       "    </tr>\n",
       "    <tr>\n",
       "      <th>...</th>\n",
       "      <td>...</td>\n",
       "      <td>...</td>\n",
       "    </tr>\n",
       "    <tr>\n",
       "      <th>42300</th>\n",
       "      <td>46bXU7Sgj7104ZoXxzz9tM</td>\n",
       "      <td>hardstyle</td>\n",
       "    </tr>\n",
       "    <tr>\n",
       "      <th>42301</th>\n",
       "      <td>0he2ViGMUO3ajKTxLOfWVT</td>\n",
       "      <td>hardstyle</td>\n",
       "    </tr>\n",
       "    <tr>\n",
       "      <th>42302</th>\n",
       "      <td>72DAt9Lbpy9EUS29OzQLob</td>\n",
       "      <td>hardstyle</td>\n",
       "    </tr>\n",
       "    <tr>\n",
       "      <th>42303</th>\n",
       "      <td>6HXgExFVuE1c3cq9QjFCcU</td>\n",
       "      <td>hardstyle</td>\n",
       "    </tr>\n",
       "    <tr>\n",
       "      <th>42304</th>\n",
       "      <td>6MAAMZImxcvYhRnxDLTufD</td>\n",
       "      <td>hardstyle</td>\n",
       "    </tr>\n",
       "  </tbody>\n",
       "</table>\n",
       "<p>42305 rows × 2 columns</p>\n",
       "</div>"
      ],
      "text/plain": [
       "                           id      genre\n",
       "0      2Vc6NJ9PW9gD9q343XFRKx  Dark Trap\n",
       "1      7pgJBLVz5VmnL7uGHmRj6p  Dark Trap\n",
       "2      0vSWgAlfpye0WCGeNmuNhy  Dark Trap\n",
       "3      0VSXnJqQkwuH2ei1nOQ1nu  Dark Trap\n",
       "4      4jCeguq9rMTlbMmPHuO7S3  Dark Trap\n",
       "...                       ...        ...\n",
       "42300  46bXU7Sgj7104ZoXxzz9tM  hardstyle\n",
       "42301  0he2ViGMUO3ajKTxLOfWVT  hardstyle\n",
       "42302  72DAt9Lbpy9EUS29OzQLob  hardstyle\n",
       "42303  6HXgExFVuE1c3cq9QjFCcU  hardstyle\n",
       "42304  6MAAMZImxcvYhRnxDLTufD  hardstyle\n",
       "\n",
       "[42305 rows x 2 columns]"
      ]
     },
     "execution_count": 4,
     "metadata": {},
     "output_type": "execute_result"
    }
   ],
   "source": [
    "original_df"
   ]
  },
  {
   "cell_type": "code",
   "execution_count": 5,
   "id": "3c8e211b-89b0-4cf1-aff1-f561999c3fa7",
   "metadata": {},
   "outputs": [],
   "source": [
    "import os"
   ]
  },
  {
   "cell_type": "code",
   "execution_count": 6,
   "id": "0906e9ec-7c22-4cfd-9bae-f5626e5afd10",
   "metadata": {},
   "outputs": [],
   "source": [
    "ids = []\n",
    "\n",
    "for file in os.scandir(path=\"../tracks/\"):\n",
    "    ids += [file.name.replace(\".mp3\", \"\").split(\"_\")[1]]"
   ]
  },
  {
   "cell_type": "code",
   "execution_count": 7,
   "id": "fd9929fc-ae17-4aa4-b68d-518e4132d300",
   "metadata": {},
   "outputs": [
    {
     "data": {
      "text/html": [
       "<div>\n",
       "<style scoped>\n",
       "    .dataframe tbody tr th:only-of-type {\n",
       "        vertical-align: middle;\n",
       "    }\n",
       "\n",
       "    .dataframe tbody tr th {\n",
       "        vertical-align: top;\n",
       "    }\n",
       "\n",
       "    .dataframe thead th {\n",
       "        text-align: right;\n",
       "    }\n",
       "</style>\n",
       "<table border=\"1\" class=\"dataframe\">\n",
       "  <thead>\n",
       "    <tr style=\"text-align: right;\">\n",
       "      <th></th>\n",
       "      <th>id</th>\n",
       "      <th>genre</th>\n",
       "    </tr>\n",
       "  </thead>\n",
       "  <tbody>\n",
       "    <tr>\n",
       "      <th>1</th>\n",
       "      <td>7pgJBLVz5VmnL7uGHmRj6p</td>\n",
       "      <td>Dark Trap</td>\n",
       "    </tr>\n",
       "    <tr>\n",
       "      <th>13</th>\n",
       "      <td>1umsRbM7L4ju7rn9aU8Ju6</td>\n",
       "      <td>Dark Trap</td>\n",
       "    </tr>\n",
       "    <tr>\n",
       "      <th>33</th>\n",
       "      <td>2Tu4kHEeIVFn6Re2ybm2lQ</td>\n",
       "      <td>Dark Trap</td>\n",
       "    </tr>\n",
       "    <tr>\n",
       "      <th>106</th>\n",
       "      <td>6dCuGVBOQmVNEbRIDEUHy0</td>\n",
       "      <td>Dark Trap</td>\n",
       "    </tr>\n",
       "    <tr>\n",
       "      <th>120</th>\n",
       "      <td>4a9j7bIg4BT9J87pQT7b8j</td>\n",
       "      <td>Dark Trap</td>\n",
       "    </tr>\n",
       "    <tr>\n",
       "      <th>135</th>\n",
       "      <td>21cGO6AxAJJDTV7Po9ywZa</td>\n",
       "      <td>Dark Trap</td>\n",
       "    </tr>\n",
       "    <tr>\n",
       "      <th>189</th>\n",
       "      <td>6Ikh2kZIzZ2GEKpZfrV3D3</td>\n",
       "      <td>Dark Trap</td>\n",
       "    </tr>\n",
       "    <tr>\n",
       "      <th>193</th>\n",
       "      <td>0UzDPAMBI8miCHsYoqRb7g</td>\n",
       "      <td>Dark Trap</td>\n",
       "    </tr>\n",
       "    <tr>\n",
       "      <th>213</th>\n",
       "      <td>6aksxALGxEL6kOOvITALIm</td>\n",
       "      <td>Dark Trap</td>\n",
       "    </tr>\n",
       "    <tr>\n",
       "      <th>5168</th>\n",
       "      <td>2dPqNtgzsGdfvN9sw3Ot0f</td>\n",
       "      <td>Underground Rap</td>\n",
       "    </tr>\n",
       "    <tr>\n",
       "      <th>10576</th>\n",
       "      <td>4OmT5u1GqsK3Aa5YN15u2x</td>\n",
       "      <td>Trap Metal</td>\n",
       "    </tr>\n",
       "  </tbody>\n",
       "</table>\n",
       "</div>"
      ],
      "text/plain": [
       "                           id            genre\n",
       "1      7pgJBLVz5VmnL7uGHmRj6p        Dark Trap\n",
       "13     1umsRbM7L4ju7rn9aU8Ju6        Dark Trap\n",
       "33     2Tu4kHEeIVFn6Re2ybm2lQ        Dark Trap\n",
       "106    6dCuGVBOQmVNEbRIDEUHy0        Dark Trap\n",
       "120    4a9j7bIg4BT9J87pQT7b8j        Dark Trap\n",
       "135    21cGO6AxAJJDTV7Po9ywZa        Dark Trap\n",
       "189    6Ikh2kZIzZ2GEKpZfrV3D3        Dark Trap\n",
       "193    0UzDPAMBI8miCHsYoqRb7g        Dark Trap\n",
       "213    6aksxALGxEL6kOOvITALIm        Dark Trap\n",
       "5168   2dPqNtgzsGdfvN9sw3Ot0f  Underground Rap\n",
       "10576  4OmT5u1GqsK3Aa5YN15u2x       Trap Metal"
      ]
     },
     "execution_count": 7,
     "metadata": {},
     "output_type": "execute_result"
    }
   ],
   "source": [
    "original_df.loc[original_df[\"id\"].isin(ids)]"
   ]
  },
  {
   "cell_type": "code",
   "execution_count": 8,
   "id": "88356ea7-f3cb-47e1-8e9e-fb16b7fca37a",
   "metadata": {},
   "outputs": [],
   "source": [
    "from sklearn.model_selection import train_test_split\n",
    "from sklearn.preprocessing import LabelEncoder\n",
    "from tensorflow import keras\n",
    "import librosa\n",
    "import subprocess"
   ]
  },
  {
   "cell_type": "code",
   "execution_count": 9,
   "id": "60eee860-35c8-4229-b0cc-9972a13e2531",
   "metadata": {},
   "outputs": [
    {
     "name": "stdout",
     "output_type": "stream",
     "text": [
      "4OmT5u1GqsK3Aa5YN15u2x\n",
      "2dPqNtgzsGdfvN9sw3Ot0f\n",
      "21cGO6AxAJJDTV7Po9ywZa\n",
      "6aksxALGxEL6kOOvITALIm\n",
      "2Tu4kHEeIVFn6Re2ybm2lQ\n",
      "0UzDPAMBI8miCHsYoqRb7g\n",
      "7pgJBLVz5VmnL7uGHmRj6p\n",
      "4a9j7bIg4BT9J87pQT7b8j\n",
      "1umsRbM7L4ju7rn9aU8Ju6\n",
      "6Ikh2kZIzZ2GEKpZfrV3D3\n",
      "6dCuGVBOQmVNEbRIDEUHy0\n"
     ]
    }
   ],
   "source": [
    "for id in ids:\n",
    "    print(id)"
   ]
  },
  {
   "cell_type": "code",
   "execution_count": 10,
   "id": "7a876d0f-7fb3-42f8-a0e6-fa26e3ba176a",
   "metadata": {},
   "outputs": [],
   "source": [
    "full_data = []\n",
    "\n",
    "for file in os.scandir(\"../tracks\"):\n",
    "    track = str(file).replace(\"<DirEntry '\", \"\").replace(\"'>\", \"\")\n",
    "    data, sr = librosa.load(f\"../tracks/{track}\")\n",
    "    full_data += [(data,sr)]"
   ]
  },
  {
   "cell_type": "code",
   "execution_count": 11,
   "id": "7235bc72-a188-47b8-a667-42496a604ae3",
   "metadata": {},
   "outputs": [
    {
     "data": {
      "text/plain": [
       "2695681"
      ]
     },
     "execution_count": 11,
     "metadata": {},
     "output_type": "execute_result"
    }
   ],
   "source": [
    "a = full_data[2][0]\n",
    "len(a)"
   ]
  },
  {
   "cell_type": "code",
   "execution_count": 12,
   "id": "0ef6dc12-ba06-4ebc-8afb-6813b9c212f5",
   "metadata": {},
   "outputs": [
    {
     "data": {
      "text/plain": [
       "0.10242182"
      ]
     },
     "execution_count": 12,
     "metadata": {},
     "output_type": "execute_result"
    }
   ],
   "source": [
    "import numpy as np\n",
    "np.var(librosa.feature.chroma_stft(y=a))"
   ]
  },
  {
   "cell_type": "code",
   "execution_count": 13,
   "id": "2129edc1-aa33-43bb-9bf6-82c1b4eacd29",
   "metadata": {},
   "outputs": [],
   "source": [
    "from sklearn.preprocessing import StandardScaler\n",
    "fit = StandardScaler()\n",
    "\n",
    "X = fit.fit_transform"
   ]
  },
  {
   "cell_type": "markdown",
   "id": "534c013d-dd4d-4102-93ce-012aa8624b89",
   "metadata": {},
   "source": [
    " ## Features\n",
    "    \n",
    "1. Length\n",
    "2. Chroma STFT (short-time Fourier transform) - Mean `np.mean(librosa.feature.chroma_stft(y = audio_timeseries))`\n",
    "3. Chroma STFT (short-time Fourier transform) - Variance `np.var(librosa.feature.chroma_stft(y  =audio_timeseries))`\n",
    "4. RMS - Mean - Compute root-mean-square (RMS) value for each frame then mean of that `np.mean(librosa.feature.rms(y = audio_timeseries))`\n",
    "5. RMS - Variance - Compute root-mean-square (RMS) value for each frame then variance of that `np.var(librosa.feature.rms(y = audio_timeseries))`\n",
    "6. Spectral centroid - Mean -  `np.mean(librosa.feature.rms(y = audio_timeseries))`\n",
    "7. Spectral centroid - Variance -  `np.var(librosa.feature.rms(y = audio_timeseries))`"
   ]
  },
  {
   "cell_type": "code",
   "execution_count": 14,
   "id": "aa765d70-fe90-43a2-983c-f148a639f8ec",
   "metadata": {},
   "outputs": [
    {
     "data": {
      "text/plain": [
       "384"
      ]
     },
     "execution_count": 14,
     "metadata": {},
     "output_type": "execute_result"
    }
   ],
   "source": [
    "len(librosa.feature.tempogram(y=a))"
   ]
  },
  {
   "cell_type": "code",
   "execution_count": 16,
   "id": "d771d22f-6665-48d1-9f4a-95cc8c9c34a5",
   "metadata": {},
   "outputs": [
    {
     "data": {
      "text/plain": [
       "array([[0.8509567 , 0.8549814 , 0.8587386 , ..., 0.22822249, 0.2225654 ,\n",
       "        0.21690479],\n",
       "       [0.32244763, 0.31714746, 0.3118741 , ..., 0.27012098, 0.27052066,\n",
       "        0.2708704 ],\n",
       "       [0.20761602, 0.20058498, 0.19352236, ..., 0.37449574, 0.38193294,\n",
       "        0.38923085],\n",
       "       ...,\n",
       "       [0.        , 0.        , 0.        , ..., 0.25852564, 0.25758284,\n",
       "        0.25640512],\n",
       "       [0.03817177, 0.03802476, 0.0377799 , ..., 0.40396982, 0.38772506,\n",
       "        0.37093914],\n",
       "       [0.29256797, 0.29731652, 0.30218646, ..., 0.22574437, 0.21847236,\n",
       "        0.21138224]], dtype=float32)"
      ]
     },
     "execution_count": 16,
     "metadata": {},
     "output_type": "execute_result"
    }
   ],
   "source": [
    "librosa.feature.chroma_cens(y=a)"
   ]
  },
  {
   "cell_type": "code",
   "execution_count": null,
   "id": "6b776004-8546-4db9-b47c-9cd5d3bd8c51",
   "metadata": {},
   "outputs": [],
   "source": [
    "a"
   ]
  },
  {
   "cell_type": "code",
   "execution_count": 18,
   "id": "9b2f8081-8457-47ed-8d60-c881f4f55f59",
   "metadata": {},
   "outputs": [],
   "source": [
    "x = np.array([10.9, 4.5, 3.6, 70.8], dtype=float)\n",
    "y = np.array([10.0, 6.5, 8.6, 1.8], dtype=float)\n",
    "z = np.array([10.5, 5.5, 31.6, 7.8], dtype=float)"
   ]
  },
  {
   "cell_type": "code",
   "execution_count": 32,
   "id": "0d58e686-1c08-4bef-80c0-6059abb741bd",
   "metadata": {},
   "outputs": [
    {
     "data": {
      "text/plain": [
       "array([[10.9,  4.5,  3.6, 70.8],\n",
       "       [10. ,  6.5,  8.6,  1.8],\n",
       "       [10.5,  5.5, 31.6,  7.8]])"
      ]
     },
     "execution_count": 32,
     "metadata": {},
     "output_type": "execute_result"
    }
   ],
   "source": [
    "np.array([x,y,z])"
   ]
  },
  {
   "cell_type": "code",
   "execution_count": 28,
   "id": "7e897e9a-71e0-4ad3-b1bb-1e9b832eb7d6",
   "metadata": {},
   "outputs": [],
   "source": [
    "from functools import reduce\n",
    "from itertools import accumulate"
   ]
  },
  {
   "cell_type": "code",
   "execution_count": 31,
   "id": "b72cca03-44cc-47a8-aa9b-99a014a37593",
   "metadata": {},
   "outputs": [
    {
     "data": {
      "text/plain": [
       "[array([10.9,  4.5,  3.6, 70.8]),\n",
       " array([20.9, 11. , 12.2, 72.6]),\n",
       " array([31.4, 16.5, 43.8, 80.4])]"
      ]
     },
     "execution_count": 31,
     "metadata": {},
     "output_type": "execute_result"
    }
   ],
   "source": [
    "list(accumulate([x,y,z]))"
   ]
  },
  {
   "cell_type": "code",
   "execution_count": null,
   "id": "5898e229-2007-487c-9999-18fbedb8e854",
   "metadata": {},
   "outputs": [],
   "source": []
  }
 ],
 "metadata": {
  "kernelspec": {
   "display_name": "Python 3 (ipykernel)",
   "language": "python",
   "name": "python3"
  },
  "language_info": {
   "codemirror_mode": {
    "name": "ipython",
    "version": 3
   },
   "file_extension": ".py",
   "mimetype": "text/x-python",
   "name": "python",
   "nbconvert_exporter": "python",
   "pygments_lexer": "ipython3",
   "version": "3.9.7"
  }
 },
 "nbformat": 4,
 "nbformat_minor": 5
}
